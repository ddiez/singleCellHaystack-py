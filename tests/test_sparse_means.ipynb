{
 "cells": [
  {
   "cell_type": "code",
   "execution_count": 1,
   "id": "6edca175-5f28-4e41-ad81-55acee4c8f6a",
   "metadata": {},
   "outputs": [],
   "source": [
    "import scanpy as sc\n",
    "import pandas as pd"
   ]
  },
  {
   "cell_type": "code",
   "execution_count": 2,
   "id": "7d928b00-476f-4ee0-840c-41bf73a2865c",
   "metadata": {},
   "outputs": [
    {
     "data": {
      "text/plain": [
       "AnnData object with n_obs × n_vars = 2638 × 1838\n",
       "    obs: 'n_genes', 'percent_mito', 'n_counts', 'louvain'\n",
       "    var: 'n_cells'\n",
       "    uns: 'draw_graph', 'louvain', 'louvain_colors', 'neighbors', 'pca', 'rank_genes_groups'\n",
       "    obsm: 'X_pca', 'X_tsne', 'X_umap', 'X_draw_graph_fr'\n",
       "    varm: 'PCs'\n",
       "    obsp: 'distances', 'connectivities'"
      ]
     },
     "execution_count": 2,
     "metadata": {},
     "output_type": "execute_result"
    }
   ],
   "source": [
    "adata = sc.datasets.pbmc3k_processed()\n",
    "adata"
   ]
  },
  {
   "cell_type": "code",
   "execution_count": 3,
   "id": "fce857a0-bfc4-41fa-af17-388678aeed88",
   "metadata": {},
   "outputs": [
    {
     "data": {
      "text/plain": [
       "AnnData object with n_obs × n_vars = 2638 × 13714\n",
       "    obs: 'n_genes', 'percent_mito', 'n_counts', 'louvain'\n",
       "    var: 'n_cells'\n",
       "    uns: 'draw_graph', 'louvain', 'louvain_colors', 'neighbors', 'pca', 'rank_genes_groups'\n",
       "    obsm: 'X_pca', 'X_tsne', 'X_umap', 'X_draw_graph_fr'\n",
       "    obsp: 'distances', 'connectivities'"
      ]
     },
     "execution_count": 3,
     "metadata": {},
     "output_type": "execute_result"
    }
   ],
   "source": [
    "adata_raw = adata.raw.to_adata()\n",
    "adata_raw"
   ]
  },
  {
   "cell_type": "code",
   "execution_count": 6,
   "id": "a2976f49-4e0f-48b4-9232-931fa1b7b7f9",
   "metadata": {},
   "outputs": [
    {
     "data": {
      "text/plain": [
       "<2638x13714 sparse matrix of type '<class 'numpy.float32'>'\n",
       "\twith 2238732 stored elements in Compressed Sparse Row format>"
      ]
     },
     "execution_count": 6,
     "metadata": {},
     "output_type": "execute_result"
    }
   ],
   "source": [
    "exprs = adata_raw.X\n",
    "exprs"
   ]
  },
  {
   "cell_type": "code",
   "execution_count": 52,
   "id": "59d2fc80-0953-4512-b2a9-63e1be47d042",
   "metadata": {},
   "outputs": [
    {
     "data": {
      "text/plain": [
       "array([[0.       , 0.       , 0.       , ..., 0.       , 0.       ,\n",
       "        0.       ],\n",
       "       [0.       , 0.       , 0.       , ..., 0.       , 0.       ,\n",
       "        0.       ],\n",
       "       [0.       , 0.       , 0.       , ..., 0.       , 0.       ,\n",
       "        0.       ],\n",
       "       ...,\n",
       "       [0.       , 0.       , 0.       , ..., 0.       , 0.       ,\n",
       "        0.       ],\n",
       "       [0.       , 0.       , 0.       , ..., 0.6931472, 0.       ,\n",
       "        0.       ],\n",
       "       [0.       , 0.       , 0.       , ..., 0.       , 0.       ,\n",
       "        0.       ]], dtype=float32)"
      ]
     },
     "execution_count": 52,
     "metadata": {},
     "output_type": "execute_result"
    }
   ],
   "source": [
    "exprs_dense = exprs.toarray()\n",
    "exprs_dense"
   ]
  },
  {
   "cell_type": "code",
   "execution_count": 63,
   "id": "528a089c-7f4d-4dd1-8c80-f3feb31cfd5d",
   "metadata": {},
   "outputs": [],
   "source": [
    "sum_sparse = np.array(exprs.sum(axis=0)).reshape(-1)\n",
    "sum_dense = np.array(exprs_dense.sum(axis=0)).reshape(-1)\n",
    "mean_sparse = np.array(exprs.mean(axis=0)).reshape(-1)\n",
    "mean_dense = np.array(exprs_dense.mean(axis=0)).reshape(-1)"
   ]
  },
  {
   "cell_type": "code",
   "execution_count": 70,
   "id": "60015f40-56f7-4449-9bef-3b784c8630b9",
   "metadata": {},
   "outputs": [
    {
     "data": {
      "text/html": [
       "<div>\n",
       "<style scoped>\n",
       "    .dataframe tbody tr th:only-of-type {\n",
       "        vertical-align: middle;\n",
       "    }\n",
       "\n",
       "    .dataframe tbody tr th {\n",
       "        vertical-align: top;\n",
       "    }\n",
       "\n",
       "    .dataframe thead th {\n",
       "        text-align: right;\n",
       "    }\n",
       "</style>\n",
       "<table border=\"1\" class=\"dataframe\">\n",
       "  <thead>\n",
       "    <tr style=\"text-align: right;\">\n",
       "      <th></th>\n",
       "      <th>gene</th>\n",
       "      <th>sum_sparse</th>\n",
       "      <th>sum_dense</th>\n",
       "      <th>sum_diff</th>\n",
       "      <th>mean_sparse</th>\n",
       "      <th>mean_dense</th>\n",
       "      <th>mean_diff</th>\n",
       "    </tr>\n",
       "  </thead>\n",
       "  <tbody>\n",
       "    <tr>\n",
       "      <th>0</th>\n",
       "      <td>AL627309.1</td>\n",
       "      <td>6.238325</td>\n",
       "      <td>6.238325</td>\n",
       "      <td>0.0</td>\n",
       "      <td>0.002365</td>\n",
       "      <td>0.002365</td>\n",
       "      <td>0.000000e+00</td>\n",
       "    </tr>\n",
       "    <tr>\n",
       "      <th>1</th>\n",
       "      <td>AP006222.2</td>\n",
       "      <td>2.079442</td>\n",
       "      <td>2.079442</td>\n",
       "      <td>0.0</td>\n",
       "      <td>0.000788</td>\n",
       "      <td>0.000788</td>\n",
       "      <td>0.000000e+00</td>\n",
       "    </tr>\n",
       "    <tr>\n",
       "      <th>2</th>\n",
       "      <td>RP11-206L10.2</td>\n",
       "      <td>3.465736</td>\n",
       "      <td>3.465736</td>\n",
       "      <td>0.0</td>\n",
       "      <td>0.001314</td>\n",
       "      <td>0.001314</td>\n",
       "      <td>1.164153e-10</td>\n",
       "    </tr>\n",
       "    <tr>\n",
       "      <th>3</th>\n",
       "      <td>RP11-206L10.9</td>\n",
       "      <td>2.079442</td>\n",
       "      <td>2.079442</td>\n",
       "      <td>0.0</td>\n",
       "      <td>0.000788</td>\n",
       "      <td>0.000788</td>\n",
       "      <td>0.000000e+00</td>\n",
       "    </tr>\n",
       "    <tr>\n",
       "      <th>4</th>\n",
       "      <td>LINC00115</td>\n",
       "      <td>12.476652</td>\n",
       "      <td>12.476652</td>\n",
       "      <td>0.0</td>\n",
       "      <td>0.004730</td>\n",
       "      <td>0.004730</td>\n",
       "      <td>-9.313226e-10</td>\n",
       "    </tr>\n",
       "    <tr>\n",
       "      <th>...</th>\n",
       "      <td>...</td>\n",
       "      <td>...</td>\n",
       "      <td>...</td>\n",
       "      <td>...</td>\n",
       "      <td>...</td>\n",
       "      <td>...</td>\n",
       "      <td>...</td>\n",
       "    </tr>\n",
       "    <tr>\n",
       "      <th>13709</th>\n",
       "      <td>AC145212.1</td>\n",
       "      <td>11.208139</td>\n",
       "      <td>11.208139</td>\n",
       "      <td>0.0</td>\n",
       "      <td>0.004249</td>\n",
       "      <td>0.004249</td>\n",
       "      <td>-4.656613e-10</td>\n",
       "    </tr>\n",
       "    <tr>\n",
       "      <th>13710</th>\n",
       "      <td>AL592183.1</td>\n",
       "      <td>236.861130</td>\n",
       "      <td>236.861130</td>\n",
       "      <td>0.0</td>\n",
       "      <td>0.089788</td>\n",
       "      <td>0.089788</td>\n",
       "      <td>-7.450581e-09</td>\n",
       "    </tr>\n",
       "    <tr>\n",
       "      <th>13711</th>\n",
       "      <td>AL354822.1</td>\n",
       "      <td>5.545177</td>\n",
       "      <td>5.545177</td>\n",
       "      <td>0.0</td>\n",
       "      <td>0.002102</td>\n",
       "      <td>0.002102</td>\n",
       "      <td>2.328306e-10</td>\n",
       "    </tr>\n",
       "    <tr>\n",
       "      <th>13712</th>\n",
       "      <td>PNRC2-1</td>\n",
       "      <td>77.985764</td>\n",
       "      <td>77.985764</td>\n",
       "      <td>0.0</td>\n",
       "      <td>0.029562</td>\n",
       "      <td>0.029562</td>\n",
       "      <td>-7.450581e-09</td>\n",
       "    </tr>\n",
       "    <tr>\n",
       "      <th>13713</th>\n",
       "      <td>SRSF10-1</td>\n",
       "      <td>47.539463</td>\n",
       "      <td>47.539463</td>\n",
       "      <td>0.0</td>\n",
       "      <td>0.018021</td>\n",
       "      <td>0.018021</td>\n",
       "      <td>3.725290e-09</td>\n",
       "    </tr>\n",
       "  </tbody>\n",
       "</table>\n",
       "<p>13714 rows × 7 columns</p>\n",
       "</div>"
      ],
      "text/plain": [
       "                gene  sum_sparse   sum_dense  sum_diff  mean_sparse  \\\n",
       "0         AL627309.1    6.238325    6.238325       0.0     0.002365   \n",
       "1         AP006222.2    2.079442    2.079442       0.0     0.000788   \n",
       "2      RP11-206L10.2    3.465736    3.465736       0.0     0.001314   \n",
       "3      RP11-206L10.9    2.079442    2.079442       0.0     0.000788   \n",
       "4          LINC00115   12.476652   12.476652       0.0     0.004730   \n",
       "...              ...         ...         ...       ...          ...   \n",
       "13709     AC145212.1   11.208139   11.208139       0.0     0.004249   \n",
       "13710     AL592183.1  236.861130  236.861130       0.0     0.089788   \n",
       "13711     AL354822.1    5.545177    5.545177       0.0     0.002102   \n",
       "13712        PNRC2-1   77.985764   77.985764       0.0     0.029562   \n",
       "13713       SRSF10-1   47.539463   47.539463       0.0     0.018021   \n",
       "\n",
       "       mean_dense     mean_diff  \n",
       "0        0.002365  0.000000e+00  \n",
       "1        0.000788  0.000000e+00  \n",
       "2        0.001314  1.164153e-10  \n",
       "3        0.000788  0.000000e+00  \n",
       "4        0.004730 -9.313226e-10  \n",
       "...           ...           ...  \n",
       "13709    0.004249 -4.656613e-10  \n",
       "13710    0.089788 -7.450581e-09  \n",
       "13711    0.002102  2.328306e-10  \n",
       "13712    0.029562 -7.450581e-09  \n",
       "13713    0.018021  3.725290e-09  \n",
       "\n",
       "[13714 rows x 7 columns]"
      ]
     },
     "execution_count": 70,
     "metadata": {},
     "output_type": "execute_result"
    }
   ],
   "source": [
    "d = pd.DataFrame({\n",
    "  \"gene\": adata_raw.var_names,\n",
    "  \"sum_sparse\": sum_sparse,\n",
    "  \"sum_dense\": sum_dense,\n",
    "  \"sum_diff\": sum_sparse - sum_dense,\n",
    "  \"mean_sparse\": mean_sparse,\n",
    "  \"mean_dense\": mean_dense,\n",
    "  \"mean_diff\": mean_sparse - mean_dense,\n",
    "})\n",
    "d"
   ]
  },
  {
   "cell_type": "code",
   "execution_count": 68,
   "id": "5acea507-a3eb-4bdb-ae9c-68b09fff4b04",
   "metadata": {},
   "outputs": [
    {
     "data": {
      "text/plain": [
       "<2638x13714 sparse matrix of type '<class 'numpy.float32'>'\n",
       "\twith 2238732 stored elements in Compressed Sparse Row format>"
      ]
     },
     "execution_count": 68,
     "metadata": {},
     "output_type": "execute_result"
    }
   ],
   "source": [
    "exprs"
   ]
  },
  {
   "cell_type": "code",
   "execution_count": null,
   "id": "7dc09816-bdec-481e-b4dc-6d59d75ec20f",
   "metadata": {},
   "outputs": [],
   "source": []
  }
 ],
 "metadata": {
  "kernelspec": {
   "display_name": "Python 3 (ipykernel)",
   "language": "python",
   "name": "python3"
  },
  "language_info": {
   "codemirror_mode": {
    "name": "ipython",
    "version": 3
   },
   "file_extension": ".py",
   "mimetype": "text/x-python",
   "name": "python",
   "nbconvert_exporter": "python",
   "pygments_lexer": "ipython3",
   "version": "3.10.6"
  }
 },
 "nbformat": 4,
 "nbformat_minor": 5
}
